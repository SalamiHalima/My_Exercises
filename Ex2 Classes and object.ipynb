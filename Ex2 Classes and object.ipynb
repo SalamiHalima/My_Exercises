{
 "cells": [
  {
   "cell_type": "code",
   "execution_count": 8,
   "id": "db45cb5b",
   "metadata": {},
   "outputs": [],
   "source": [
    "\n",
    "class Animal:\n",
    "    def __init__ (self, animals, territory, sound, ears = 2, legs = 4, cat = True):\n",
    "        self.animals = animals\n",
    "        self.sound = sound,\n",
    "        self.territory = territory,\n",
    "        self.ears = ears,\n",
    "        self.legs = legs\n",
    "        self.cat = cat\n",
    "    def get_animal(self, n):\n",
    "        print(\"Animal object was created\")\n",
    "        if type(n) == str:\n",
    "            print(n)\n",
    "        else:\n",
    "            print(\"gone\")\n",
    "    def count_legs(self):\n",
    "        print(\"the number of legs is\")\n",
    "    def return_legs(self):\n",
    "        return self.legs"
   ]
  },
  {
   "cell_type": "code",
   "execution_count": 9,
   "id": "79a30627",
   "metadata": {},
   "outputs": [
    {
     "data": {
      "text/plain": [
       "{'animals': ['lion', 'tiger', 'jaguar', 'cheetah'],\n",
       " 'sound': (['roar', 'snarl', 'growl', 'gargles'],),\n",
       " 'territory': (['savanna', 'grassland', 'scrubland', 'openforest'],),\n",
       " 'ears': (2,),\n",
       " 'legs': 4,\n",
       " 'cat': True}"
      ]
     },
     "execution_count": 9,
     "metadata": {},
     "output_type": "execute_result"
    }
   ],
   "source": [
    "cat_family = Animal([\"lion\", \"tiger\", \"jaguar\", \"cheetah\"],\n",
    "                    [\"savanna\", \"grassland\", \"scrubland\", \"openforest\"],\n",
    "                    [\"roar\", \"snarl\", \"growl\", \"gargles\"]\n",
    "                   )\n",
    "cat_family.__dict__"
   ]
  },
  {
   "cell_type": "code",
   "execution_count": 16,
   "id": "207db98a",
   "metadata": {},
   "outputs": [
    {
     "name": "stdout",
     "output_type": "stream",
     "text": [
      "the number of legs is\n"
     ]
    },
    {
     "data": {
      "text/plain": [
       "4"
      ]
     },
     "execution_count": 16,
     "metadata": {},
     "output_type": "execute_result"
    }
   ],
   "source": [
    "cat_family.count_legs()\n",
    "cat_family.return_legs()\n"
   ]
  },
  {
   "cell_type": "code",
   "execution_count": 13,
   "id": "50873e84",
   "metadata": {},
   "outputs": [
    {
     "data": {
      "text/plain": [
       "4"
      ]
     },
     "execution_count": 13,
     "metadata": {},
     "output_type": "execute_result"
    }
   ],
   "source": [
    "cat_family.legs"
   ]
  },
  {
   "cell_type": "code",
   "execution_count": null,
   "id": "0146beac",
   "metadata": {},
   "outputs": [],
   "source": []
  }
 ],
 "metadata": {
  "kernelspec": {
   "display_name": "Python 3 (ipykernel)",
   "language": "python",
   "name": "python3"
  },
  "language_info": {
   "codemirror_mode": {
    "name": "ipython",
    "version": 3
   },
   "file_extension": ".py",
   "mimetype": "text/x-python",
   "name": "python",
   "nbconvert_exporter": "python",
   "pygments_lexer": "ipython3",
   "version": "3.9.13"
  }
 },
 "nbformat": 4,
 "nbformat_minor": 5
}
