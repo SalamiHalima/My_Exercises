{
 "cells": [
  {
   "cell_type": "code",
   "execution_count": 2,
   "id": "e585e4e3",
   "metadata": {},
   "outputs": [
    {
     "name": "stdout",
     "output_type": "stream",
     "text": [
      "lion\n",
      "monkey\n",
      "dog\n",
      "fish\n",
      "lion\n",
      "monkey\n",
      "dog\n",
      "fish\n",
      "dog\n",
      "fish\n",
      "monkey\n",
      "lion\n",
      "lion, lives on land\n",
      "monkey, lives on land\n",
      "dog, lives on land\n"
     ]
    }
   ],
   "source": [
    "list1 = [\"lion\", \"monkey\", \"dog\",\"fish\"]\n",
    "tuple1 = (\"lion\", \"monkey\", \"dog\",\"fish\")\n",
    "set1 = {\"lion\", \"monkey\", \"dog\",\"fish\"}\n",
    "dict1 = {\"lion\":\"land\", \"monkey\":\"land\", \"dog\":\"land\",\"fish\":\"water\"}\n",
    "\n",
    "for i in list1:\n",
    "    print(i)\n",
    "for i in tuple1:\n",
    "    print(i)\n",
    "for i in set1:\n",
    "    print(i)\n",
    "for i in dict1:\n",
    "    if dict1[i] == \"land\":\n",
    "        print(f\"{i}, lives on land\")"
   ]
  },
  {
   "cell_type": "code",
   "execution_count": 10,
   "id": "9e11c3ed",
   "metadata": {},
   "outputs": [
    {
     "name": "stdout",
     "output_type": "stream",
     "text": [
      "4\n",
      "4\n",
      "4\n",
      "4\n"
     ]
    }
   ],
   "source": [
    "print(len(list1))\n",
    "print(len(tuple1))\n",
    "print(len(set1))\n",
    "print(len(dict1))"
   ]
  },
  {
   "cell_type": "code",
   "execution_count": 12,
   "id": "60053c98",
   "metadata": {},
   "outputs": [
    {
     "name": "stdout",
     "output_type": "stream",
     "text": [
      "lion\n",
      "lion\n"
     ]
    }
   ],
   "source": [
    "print(list1[0])\n",
    "print(tuple1[0])"
   ]
  },
  {
   "cell_type": "code",
   "execution_count": 37,
   "id": "1d0e4f88",
   "metadata": {},
   "outputs": [
    {
     "name": "stdout",
     "output_type": "stream",
     "text": [
      "land\n"
     ]
    }
   ],
   "source": [
    "print(dict1[\"lion\"])"
   ]
  },
  {
   "cell_type": "code",
   "execution_count": 41,
   "id": "190da2cd",
   "metadata": {},
   "outputs": [],
   "source": [
    "\n",
    "list1[1] = \"rabbit\""
   ]
  },
  {
   "cell_type": "code",
   "execution_count": 46,
   "id": "2db9a745",
   "metadata": {},
   "outputs": [
    {
     "ename": "SyntaxError",
     "evalue": "invalid syntax (761216002.py, line 4)",
     "output_type": "error",
     "traceback": [
      "\u001b[1;36m  File \u001b[1;32m\"C:\\Users\\USER\\AppData\\Local\\Temp\\ipykernel_15052\\761216002.py\"\u001b[1;36m, line \u001b[1;32m4\u001b[0m\n\u001b[1;33m    TypeError: 'tuple' object does not support item assignment\u001b[0m\n\u001b[1;37m                       ^\u001b[0m\n\u001b[1;31mSyntaxError\u001b[0m\u001b[1;31m:\u001b[0m invalid syntax\n"
     ]
    }
   ],
   "source": [
    "#tuples can not be changes\n",
    "tuple1[1] = \"rabbit\"\n",
    "\n",
    "TypeError: 'tuple' object does not support item assignment"
   ]
  },
  {
   "cell_type": "code",
   "execution_count": 56,
   "id": "4cec6032",
   "metadata": {},
   "outputs": [],
   "source": [
    "list1.append(\"monkey\")"
   ]
  },
  {
   "cell_type": "code",
   "execution_count": 58,
   "id": "7d2a35ad",
   "metadata": {},
   "outputs": [
    {
     "data": {
      "text/plain": [
       "['lion', 'rabbit', 'dog', 'fish', 'monkey']"
      ]
     },
     "execution_count": 58,
     "metadata": {},
     "output_type": "execute_result"
    }
   ],
   "source": [
    "list1"
   ]
  },
  {
   "cell_type": "code",
   "execution_count": null,
   "id": "e7fe6e9c",
   "metadata": {},
   "outputs": [],
   "source": [
    "list1.remove(\"rabbit\")"
   ]
  },
  {
   "cell_type": "code",
   "execution_count": 65,
   "id": "b5b32600",
   "metadata": {},
   "outputs": [],
   "source": [
    "dict1[\"fish\"] = 0"
   ]
  },
  {
   "cell_type": "code",
   "execution_count": 66,
   "id": "dadc77c7",
   "metadata": {},
   "outputs": [
    {
     "data": {
      "text/plain": [
       "{'lion': 'land', 'monkey': 'land', 'dog': 'land', 'fish': 0}"
      ]
     },
     "execution_count": 66,
     "metadata": {},
     "output_type": "execute_result"
    }
   ],
   "source": [
    "dict1"
   ]
  },
  {
   "cell_type": "code",
   "execution_count": null,
   "id": "cf2a932f",
   "metadata": {},
   "outputs": [],
   "source": [
    "Remember list,set,dictionary are mutable and tuple is immutable list,tuple elements can be reached by index\n",
    "for dictionary it is not an option to reach by index the element key has to be known to reach\n",
    "and for set the items cannot be reached directly but it is possible to iterate.\n",
    "\n",
    "print the lengths of list1,tuple1,set1,dict1\n",
    "print the first element of list1 and tuple1\n",
    "print the value of lion key of dict1\n",
    "change the 2nd position element of list1 to \"rabbit\"\n",
    "try to change the 2nd position element of the tuple to \"rabbit\" and explain what happened.\n",
    "add \"monkey\" to list1\n",
    "remove \"rabbit\" from list1\n",
    "in dict1 the number of feet is written as value to each animal the fish has wrong value just fix it."
   ]
  }
 ],
 "metadata": {
  "kernelspec": {
   "display_name": "Python 3 (ipykernel)",
   "language": "python",
   "name": "python3"
  },
  "language_info": {
   "codemirror_mode": {
    "name": "ipython",
    "version": 3
   },
   "file_extension": ".py",
   "mimetype": "text/x-python",
   "name": "python",
   "nbconvert_exporter": "python",
   "pygments_lexer": "ipython3",
   "version": "3.9.13"
  }
 },
 "nbformat": 4,
 "nbformat_minor": 5
}
